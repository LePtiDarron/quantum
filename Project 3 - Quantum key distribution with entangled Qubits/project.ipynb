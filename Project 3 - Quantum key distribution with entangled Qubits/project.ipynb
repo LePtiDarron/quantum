{
 "cells": [
  {
   "cell_type": "markdown",
   "metadata": {},
   "source": [
    "Prerequisite installs for Project 3 - Quantum key distribution with entangled qubits (Simulation)"
   ]
  },
  {
   "cell_type": "code",
   "execution_count": null,
   "metadata": {},
   "outputs": [],
   "source": [
    "%pip install qiskit\n",
    "%pip install qiskit[visualization]\n",
    "%pip install qiskit-aer"
   ]
  },
  {
   "cell_type": "markdown",
   "metadata": {},
   "source": [
    "Project 3 - Quantum key distribution with entangled qubits (Simulation)"
   ]
  },
  {
   "cell_type": "markdown",
   "metadata": {},
   "source": [
    "Step 1"
   ]
  },
  {
   "cell_type": "code",
   "execution_count": null,
   "metadata": {},
   "outputs": [],
   "source": [
    "from qiskit               import QuantumCircuit, \\\n",
    "                                 transpile\n",
    "from qiskit_aer           import AerSimulator\n",
    "from qiskit.visualization import plot_histogram\n",
    "\n",
    "\n",
    "qc = QuantumCircuit(2, 2)\n",
    "qc.x(1)     # Flip Bob's qubit to |1>\n",
    "qc.h(0)     # Create superposition on Alice's qubit\n",
    "qc.cx(0, 1) # Entangle Alice and Bob's qubits\n",
    "qc.z(0)     # Apply Z-gate to Alice's qubit to get |ψ_ab>\n",
    "qc.measure([0, 1], [0, 1]) # Measure both qubits\n",
    "\n",
    "print(qc)\n",
    "\n",
    "backend = AerSimulator() # Initialize backend for simulation\n",
    "transpiled_qc = transpile(qc, backend)\n",
    "\n",
    "# Run the transpiled circuit on the backend\n",
    "job = backend.run(transpiled_qc, shots=1000)\n",
    "result = job.result()\n",
    "counts = result.get_counts()\n",
    "\n",
    "print(f\"The counts for the circuit are: {counts}\")\n",
    "plot_histogram(counts)"
   ]
  },
  {
   "cell_type": "markdown",
   "metadata": {},
   "source": [
    "Step 2"
   ]
  },
  {
   "cell_type": "code",
   "execution_count": null,
   "metadata": {},
   "outputs": [],
   "source": [
    "from qiskit     import QuantumCircuit, \\\n",
    "                       transpile\n",
    "from qiskit_aer import AerSimulator\n",
    "from math       import radians\n",
    "\n",
    "\n",
    "def create_psi_ab_circuit_with_angle(angle_a, angle_b):\n",
    "    qc = QuantumCircuit(2, 2)\n",
    "    qc.reset([0, 1]) # Reset qubits to |0⟩\n",
    "    qc.x(1)          # Flip Bob's qubit to |1>\n",
    "    qc.h(0)          # Create superposition on Alice's qubit\n",
    "    qc.cx(0, 1)      # Entangle Alice and Bob's qubits\n",
    "    qc.z(0)          # Apply Z-gate to Alice's qubit to get |ψ_ab>\n",
    "\n",
    "    # Convert angles to radians and apply rotations\n",
    "    angle_a_rad = radians(angle_a)\n",
    "    angle_b_rad = radians(angle_b)\n",
    "    qc.ry(2 * angle_a_rad, 0) # Rotate Alice's qubit\n",
    "    qc.ry(2 * angle_b_rad, 1) # Rotate Bob's qubit\n",
    "\n",
    "    # Add measurement\n",
    "    qc.measure([0, 1], [0, 1])\n",
    "\n",
    "    return qc\n",
    "\n",
    "# Define the four circuits for the specified orientations\n",
    "qc_00_00 = create_psi_ab_circuit_with_angle(0, 0)\n",
    "print(\"Circuit (0°, 0°):\")\n",
    "print(qc_00_00)\n",
    "\n",
    "qc_minus30_00 = create_psi_ab_circuit_with_angle(-30, 0)\n",
    "print(\"Circuit (-30°, 0°):\")\n",
    "print(qc_minus30_00)\n",
    "\n",
    "qc_00_30 = create_psi_ab_circuit_with_angle(0, 30)\n",
    "print(\"Circuit (0°, 30°):\")\n",
    "print(qc_00_30)\n",
    "\n",
    "qc_minus30_30 = create_psi_ab_circuit_with_angle(-30, 30)\n",
    "print(\"Circuit (-30°, 30°):\")\n",
    "print(qc_minus30_30)\n",
    "\n",
    "backend = AerSimulator() # Initialize backend for simulation\n",
    "\n",
    "# Run each circuit and display results\n",
    "for qc, (angle_a, angle_b) in [\n",
    "    (qc_00_00,      (  0,  0)),\n",
    "    (qc_minus30_00, (-30,  0)),\n",
    "    (qc_00_30,      (  0, 30)),\n",
    "    (qc_minus30_30, (-30, 30))\n",
    "]:\n",
    "    # Transpile and execute\n",
    "    transpiled_qc = transpile(qc, backend)\n",
    "    shots = 1024\n",
    "    job = backend.run(transpiled_qc, shots=shots)\n",
    "    result = job.result()\n",
    "    counts = result.get_counts()\n",
    "\n",
    "    # Display the results\n",
    "    counts_00 = counts.get('00', 0)\n",
    "    counts_01 = counts.get('01', 0)\n",
    "    counts_10 = counts.get('10', 0)\n",
    "    counts_11 = counts.get('11', 0)\n",
    "    print(f\"Results for angles ({angle_a}°, {angle_b}°):\\n00: {counts_00}, 01: {counts_01}, 10: {counts_10}, 11: {counts_11}\")\n",
    "    print(f\"Probability of measuring |00⟩: {(counts_00) / shots:.3f}\")\n",
    "    print(f\"Probability of measuring |11⟩: {(counts_11) / shots:.3f}\")\n",
    "    print()"
   ]
  },
  {
   "cell_type": "markdown",
   "metadata": {},
   "source": [
    "Step 3"
   ]
  },
  {
   "cell_type": "code",
   "execution_count": null,
   "metadata": {},
   "outputs": [],
   "source": [
    "from random import randint\n",
    "\n",
    "def generate_random_settings(size=1024):\n",
    "    \"\"\"\n",
    "    Generate a random string for measurement settings.\n",
    "    Each setting is randomly chosen from [0, 1], representing:\n",
    "    0 -> Measurement angle 0°\n",
    "    1 -> Measurement angle -30° or 30°.\n",
    "    \"\"\"\n",
    "    return [randint(0, 1) for _ in range(size)]\n",
    "\n",
    "# Generate random settings for Alice and Bob\n",
    "alice_settings = generate_random_settings(size=1024)\n",
    "bob_settings   = generate_random_settings(size=1024)\n",
    "\n",
    "# Print a preview of the settings\n",
    "print(f\"Alice's settings (first 20): {alice_settings[:20]}\")\n",
    "print(f\"Bob's settings (first 20): {bob_settings[:20]}\")"
   ]
  },
  {
   "cell_type": "markdown",
   "metadata": {},
   "source": [
    "Step 4"
   ]
  },
  {
   "cell_type": "code",
   "execution_count": null,
   "metadata": {},
   "outputs": [],
   "source": [
    "from qiskit     import transpile\n",
    "from qiskit_aer import AerSimulator\n",
    "\n",
    "# Function to perform random measurements\n",
    "def run_random_measurements(alice_settings, bob_settings, simulator):\n",
    "    results = {}\n",
    "    \n",
    "    for i in range(min(len(alice_settings), len(bob_settings))):\n",
    "        angle_a = 0 if alice_settings[i] == 0 else -30\n",
    "        angle_b = 0 if bob_settings[i] == 0 else 30\n",
    "        \n",
    "        qc = create_psi_ab_circuit_with_angle(angle_a, angle_b)\n",
    "        transpiled_qc = transpile(qc, simulator)\n",
    "        \n",
    "        # Run simulation with multiple shots\n",
    "        job = simulator.run(transpiled_qc, shots=1)\n",
    "        result = job.result()\n",
    "        counts = result.get_counts()\n",
    "        \n",
    "        # Calculate the most likely outcome\n",
    "        max_outcome = max(counts, key=counts.get)\n",
    "        results[i] = (max_outcome, counts)\n",
    "    \n",
    "    return results\n",
    "\n",
    "# Instantiate the Aer simulator\n",
    "simulator = AerSimulator()\n",
    "\n",
    "# Run the measurement protocol\n",
    "results = run_random_measurements(alice_settings, bob_settings, simulator)\n",
    "\n",
    "# Print the outcomes and counts\n",
    "for index, (outcome, counts) in results.items():\n",
    "    print(f\"Index {index}: Outcome={outcome}, Counts={counts}\")"
   ]
  },
  {
   "cell_type": "markdown",
   "metadata": {},
   "source": [
    "Step 5"
   ]
  },
  {
   "cell_type": "code",
   "execution_count": null,
   "metadata": {},
   "outputs": [],
   "source": [
    "# Initialize the simulator\n",
    "backend = AerSimulator()\n",
    "\n",
    "# Generate the circuit for configuration (0°, 0°)\n",
    "qc_00_00 = create_psi_ab_circuit_with_angle(0, 0)\n",
    "\n",
    "# Transpile and execute the circuit\n",
    "transpiled_qc = transpile(qc_00_00, backend)\n",
    "job = backend.run(transpiled_qc, shots=1024)\n",
    "result = job.result()\n",
    "counts = result.get_counts()\n",
    "\n",
    "key_list = []\n",
    "for outcome, count in counts.items():\n",
    "    key_list.extend([outcome] * count)  # Add the outcome 'count' times to the key list\n",
    "\n",
    "# Print the key\n",
    "print(\"Generated Key (Measurement Outcomes):\")\n",
    "print(key_list)"
   ]
  }
 ],
 "metadata": {
  "kernelspec": {
   "display_name": "Python 3",
   "language": "python",
   "name": "python3"
  },
  "language_info": {
   "codemirror_mode": {
    "name": "ipython",
    "version": 3
   },
   "file_extension": ".py",
   "mimetype": "text/x-python",
   "name": "python",
   "nbconvert_exporter": "python",
   "pygments_lexer": "ipython3",
   "version": "3.10.15"
  }
 },
 "nbformat": 4,
 "nbformat_minor": 2
}
