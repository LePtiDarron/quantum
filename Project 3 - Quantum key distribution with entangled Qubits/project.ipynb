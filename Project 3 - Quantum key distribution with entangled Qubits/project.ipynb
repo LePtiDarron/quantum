{
 "cells": [
  {
   "cell_type": "markdown",
   "metadata": {},
   "source": [
    "Prerequisite installs for Project 3 - Quantum key distribution with entangled qubits (Simulation)"
   ]
  },
  {
   "cell_type": "code",
   "execution_count": null,
   "metadata": {},
   "outputs": [],
   "source": [
    "%pip install qiskit\n",
    "%pip install qiskit[visualization]\n",
    "%pip install qiskit-aer"
   ]
  },
  {
   "cell_type": "markdown",
   "metadata": {},
   "source": [
    "Project 3 - Quantum key distribution with entangled qubits (Simulation)"
   ]
  },
  {
   "cell_type": "markdown",
   "metadata": {},
   "source": [
    "Step 1"
   ]
  },
  {
   "cell_type": "code",
   "execution_count": null,
   "metadata": {},
   "outputs": [],
   "source": [
    "from qiskit               import QuantumCircuit, \\\n",
    "                                 transpile\n",
    "from qiskit_aer           import AerSimulator\n",
    "from qiskit.visualization import plot_histogram\n",
    "\n",
    "\n",
    "qc = QuantumCircuit(2, 2)\n",
    "qc.x(1)     # Flip Bob's qubit to |1>\n",
    "qc.h(0)     # Create superposition on Alice's qubit\n",
    "qc.cx(0, 1) # Entangle Alice and Bob's qubits\n",
    "qc.z(0)     # Apply Z-gate to Alice's qubit to get |ψ_ab>\n",
    "qc.measure([0, 1], [0, 1]) # Measure both qubits\n",
    "\n",
    "print(qc)\n",
    "\n",
    "backend = AerSimulator() # Initialize backend for simulation\n",
    "transpiled_qc = transpile(qc, backend)\n",
    "\n",
    "# Run the transpiled circuit on the backend\n",
    "job = backend.run(transpiled_qc, shots=1000)\n",
    "result = job.result()\n",
    "counts = result.get_counts()\n",
    "\n",
    "print(f\"The counts for the circuit are: {counts}\")\n",
    "plot_histogram(counts)"
   ]
  },
  {
   "cell_type": "markdown",
   "metadata": {},
   "source": [
    "Step 2"
   ]
  },
  {
   "cell_type": "code",
   "execution_count": null,
   "metadata": {},
   "outputs": [],
   "source": [
    "from qiskit     import QuantumCircuit, \\\n",
    "                       transpile\n",
    "from qiskit_aer import AerSimulator\n",
    "from math       import radians\n",
    "\n",
    "\n",
    "def create_psi_ab_circuit_with_angle(angle_a, angle_b):\n",
    "    qc = QuantumCircuit(2, 2)\n",
    "    qc.reset([0, 1]) # Reset qubits to |0⟩\n",
    "    qc.x(1)          # Flip Bob's qubit to |1>\n",
    "    qc.h(0)          # Create superposition on Alice's qubit\n",
    "    qc.cx(0, 1)      # Entangle Alice and Bob's qubits\n",
    "    qc.z(0)          # Apply Z-gate to Alice's qubit to get |ψ_ab>\n",
    "\n",
    "    # Convert angles to radians and apply rotations\n",
    "    angle_a_rad = radians(angle_a)\n",
    "    angle_b_rad = radians(angle_b)\n",
    "    qc.ry(2 * angle_a_rad, 0) # Rotate Alice's qubit\n",
    "    qc.ry(2 * angle_b_rad, 1) # Rotate Bob's qubit\n",
    "\n",
    "    # Add measurement\n",
    "    qc.measure([0, 1], [0, 1])\n",
    "\n",
    "    return qc\n",
    "\n",
    "# Define the four circuits for the specified orientations\n",
    "qc_00_00 = create_psi_ab_circuit_with_angle(0, 0)\n",
    "print(\"Circuit (0°, 0°):\")\n",
    "print(qc_00_00)\n",
    "\n",
    "qc_minus30_00 = create_psi_ab_circuit_with_angle(-30, 0)\n",
    "print(\"Circuit (-30°, 0°):\")\n",
    "print(qc_minus30_00)\n",
    "\n",
    "qc_00_30 = create_psi_ab_circuit_with_angle(0, 30)\n",
    "print(\"Circuit (0°, 30°):\")\n",
    "print(qc_00_30)\n",
    "\n",
    "qc_minus30_30 = create_psi_ab_circuit_with_angle(-30, 30)\n",
    "print(\"Circuit (-30°, 30°):\")\n",
    "print(qc_minus30_30)\n",
    "\n",
    "backend = AerSimulator() # Initialize backend for simulation\n",
    "\n",
    "# Run each circuit and display results\n",
    "for qc, (angle_a, angle_b) in [\n",
    "    (qc_00_00,      (  0,  0)),\n",
    "    (qc_minus30_00, (-30,  0)),\n",
    "    (qc_00_30,      (  0, 30)),\n",
    "    (qc_minus30_30, (-30, 30))\n",
    "]:\n",
    "    # Transpile and execute\n",
    "    transpiled_qc = transpile(qc, backend)\n",
    "    shots = 1024\n",
    "    job = backend.run(transpiled_qc, shots=shots)\n",
    "    result = job.result()\n",
    "    counts = result.get_counts()\n",
    "\n",
    "    # Display the results\n",
    "    counts_00 = counts.get('00', 0)\n",
    "    counts_01 = counts.get('01', 0)\n",
    "    counts_10 = counts.get('10', 0)\n",
    "    counts_11 = counts.get('11', 0)\n",
    "    print(f\"Results for angles ({angle_a}°, {angle_b}°):\\n00: {counts_00}, 01: {counts_01}, 10: {counts_10}, 11: {counts_11}\")\n",
    "    print(f\"Probability of measuring |00⟩: {(counts_00) / shots:.3f}\")\n",
    "    print(f\"Probability of measuring |11⟩: {(counts_11) / shots:.3f}\")\n",
    "    print()"
   ]
  },
  {
   "cell_type": "markdown",
   "metadata": {},
   "source": [
    "Step 3"
   ]
  },
  {
   "cell_type": "code",
   "execution_count": null,
   "metadata": {},
   "outputs": [],
   "source": [
    "from random import randint\n",
    "\n",
    "def generate_random_settings(size=1024):\n",
    "    \"\"\"\n",
    "    Generate a random string for measurement settings.\n",
    "    Each setting is randomly chosen from [0, 1], representing:\n",
    "    0 -> Measurement angle 0°.\n",
    "    1 -> Measurement angle -30° or 30°.\n",
    "    \"\"\"\n",
    "    return [randint(0, 1) for _ in range(size)]\n",
    "\n",
    "# Generate random settings for Alice and Bob\n",
    "alice_settings = generate_random_settings(size=1024)\n",
    "bob_settings   = generate_random_settings(size=1024)\n",
    "\n",
    "# Print a preview of the settings\n",
    "print(f\"Alice's settings (first 20): {alice_settings[:20]}\")\n",
    "print(f\"Bob's settings (first 20): {bob_settings[:20]}\")"
   ]
  },
  {
   "cell_type": "markdown",
   "metadata": {},
   "source": [
    "Step 4"
   ]
  },
  {
   "cell_type": "code",
   "execution_count": null,
   "metadata": {},
   "outputs": [],
   "source": [
    "from qiskit     import transpile\n",
    "from qiskit_aer import AerSimulator\n",
    "\n",
    "# Function to perform random measurements\n",
    "def run_random_measurements(alice_settings, bob_settings, simulator):\n",
    "    results = {}\n",
    "    circuits = []\n",
    "\n",
    "    # Create a circuit for each pair of settings\n",
    "    for index in range(len(alice_settings)):\n",
    "        angle_a = 0 if alice_settings[index] == 0 else -30\n",
    "        angle_b = 0 if bob_settings[index]   == 0 else  30\n",
    "\n",
    "        qc = create_psi_ab_circuit_with_angle(angle_a, angle_b)\n",
    "        circuits.append(qc)\n",
    "\n",
    "    # Transpile the circuits\n",
    "    transpiled_circuits = transpile(circuits, simulator)\n",
    "\n",
    "    # Run simulation\n",
    "    job = simulator.run(transpiled_circuits, shots=1)\n",
    "    result = job.result()\n",
    "    counts = result.get_counts()\n",
    "\n",
    "    # Extract the outcomes\n",
    "    for index, key in enumerate(counts):\n",
    "        outcome = list(key.keys())[0]\n",
    "        results[index] = outcome\n",
    "\n",
    "    return results\n",
    "\n",
    "# Instantiate the Aer simulator\n",
    "simulator = AerSimulator()\n",
    "\n",
    "# Run the measurement protocol\n",
    "results = run_random_measurements(alice_settings, bob_settings, simulator)\n",
    "\n",
    "# Print the outcomes\n",
    "for index, outcome in results.items():\n",
    "    print(f\"Index {index}: Outcome={outcome}\")"
   ]
  },
  {
   "cell_type": "markdown",
   "metadata": {},
   "source": [
    "Step 5"
   ]
  },
  {
   "cell_type": "code",
   "execution_count": null,
   "metadata": {},
   "outputs": [],
   "source": [
    "def extract_key(results, alice_settings, bob_settings):\n",
    "    key = []\n",
    "    for index in range(len(alice_settings)):\n",
    "        if alice_settings[index] == 0 and bob_settings[index] == 0:\n",
    "            key.append(results[index])\n",
    "    return key\n",
    "\n",
    "key = extract_key(results, alice_settings, bob_settings)\n",
    "print(f\"Generated Key (length={len(key)}):\", key)"
   ]
  },
  {
   "cell_type": "markdown",
   "metadata": {},
   "source": [
    "Step 6"
   ]
  },
  {
   "cell_type": "code",
   "execution_count": null,
   "metadata": {},
   "outputs": [],
   "source": [
    "def compute_probability(results, alice_settings, bob_settings, target_settings):\n",
    "    target_alice, target_bob = target_settings\n",
    "    count_total = 0\n",
    "    count_a0_b0 = 0\n",
    "\n",
    "    for i in range(len(alice_settings)):\n",
    "        if alice_settings[i] == target_alice and bob_settings[i] == target_bob:\n",
    "            count_total += 1\n",
    "            if results[i] == \"00\":\n",
    "                count_a0_b0 += 1\n",
    "    return count_a0_b0 / count_total\n",
    "\n",
    "p_minus30_0  = compute_probability(results, alice_settings, bob_settings, (1, 0)) # (-30°,  0°)\n",
    "p_30_0       = compute_probability(results, alice_settings, bob_settings, (0, 1)) # ( 30°,  0°)\n",
    "p_minus30_30 = compute_probability(results, alice_settings, bob_settings, (1, 1)) # (-30°, 30°)\n",
    "\n",
    "# Compute W\n",
    "W = p_minus30_0 + p_30_0 - p_minus30_30"
   ]
  },
  {
   "cell_type": "markdown",
   "metadata": {},
   "source": [
    "Step 7"
   ]
  },
  {
   "cell_type": "code",
   "execution_count": null,
   "metadata": {},
   "outputs": [],
   "source": [
    "print(f\"Key = {key}\")\n",
    "print(f\"p(a=0, b=0 | -30°,  0°) = {p_minus30_0}\")\n",
    "print(f\"p(a=0, b=0 |  30°,  0°) = {p_30_0}\")\n",
    "print(f\"p(a=0, b=0 | -30°, 30°) = {p_minus30_30}\")\n",
    "print(f\"W = {W}\")"
   ]
  },
  {
   "cell_type": "markdown",
   "metadata": {},
   "source": [
    "Steps 8-11"
   ]
  },
  {
   "cell_type": "code",
   "execution_count": null,
   "metadata": {},
   "outputs": [],
   "source": [
    "import matplotlib.pyplot as     plt\n",
    "from   IPython.display   import clear_output\n",
    "from   collections       import defaultdict\n",
    "from   random            import randint\n",
    "\n",
    "from   qiskit            import transpile\n",
    "from   qiskit_aer        import AerSimulator\n",
    "\n",
    "\n",
    "def create_psi_ab_circuit_with_angle_eavesdropper(angle_a, angle_b, eavesdropper=False):\n",
    "    qc = QuantumCircuit(2, 2)\n",
    "    qc.reset([0, 1])     # Reset qubits to |0⟩\n",
    "\n",
    "    qc.x(1)              # Flip Bob's qubit to |1>\n",
    "    if not eavesdropper: # If there is no eavesdropper, create an entangled state\n",
    "        qc.h(0)          # Create superposition on Alice's qubit\n",
    "        qc.cx(0, 1)      # Entangle Alice and Bob's qubits\n",
    "        qc.z(0)          # Apply Z-gate to Alice's qubit to get |ψ_ab>\n",
    "\n",
    "    # Convert angles to radians and apply rotations\n",
    "    angle_a_rad = radians(angle_a)\n",
    "    angle_b_rad = radians(angle_b)\n",
    "    qc.ry(2 * angle_a_rad, 0) # Rotate Alice's qubit\n",
    "    qc.ry(2 * angle_b_rad, 1) # Rotate Bob's qubit\n",
    "\n",
    "    # Add measurement\n",
    "    qc.measure([0, 1], [0, 1])\n",
    "\n",
    "    return qc\n",
    "\n",
    "def run_random_measurements_eavesdropper(alice_settings, bob_settings, simulator, eavesdropper=False):\n",
    "    results = {}\n",
    "    circuits = []\n",
    "\n",
    "    # Generate circuits for each pair of settings\n",
    "    for index in range(len(alice_settings)):\n",
    "        angle_a = 0 if alice_settings[index] == 0 else -30\n",
    "        angle_b = 0 if bob_settings[index]   == 0 else  30\n",
    "\n",
    "        qc = create_psi_ab_circuit_with_angle_eavesdropper(angle_a, angle_b, eavesdropper)\n",
    "        circuits.append(qc)\n",
    "\n",
    "    # Transpile the circuits\n",
    "    transpiled_circuits = transpile(circuits, simulator)\n",
    "\n",
    "    # Run simulation\n",
    "    job = simulator.run(transpiled_circuits, shots=1)\n",
    "    result = job.result()\n",
    "    counts = result.get_counts()\n",
    "\n",
    "    # Extract the outcomes\n",
    "    for index, key in enumerate(counts):\n",
    "        outcome = list(key.keys())[0]\n",
    "        results[index] = outcome\n",
    "\n",
    "    return results\n",
    "\n",
    "def live_plot(data_dict, show_alert, eavesdropper, figsize=(7,5), title=''):\n",
    "    clear_output(wait=True)\n",
    "    if (eavesdropper):\n",
    "        print(\"Eavesdropper detected!\")\n",
    "    if (show_alert):\n",
    "        print(\"Alert : someone is listening!\")\n",
    "    plt.figure(figsize=figsize)\n",
    "    for label, data in data_dict.items():\n",
    "        plt.plot(data, label=label)\n",
    "\n",
    "    plt.title(title)\n",
    "    plt.grid(True)\n",
    "    plt.xlabel('Batch ID')\n",
    "    plt.legend(loc='center left') # The plot evolves to the right\n",
    "    plt.show()\n",
    "\n",
    "data = defaultdict(list)\n",
    "\n",
    "while True:\n",
    "    alice_settings = generate_random_settings(size=1024)\n",
    "    bob_settings   = generate_random_settings(size=1024)\n",
    "\n",
    "    eavesdropper = randint(0, 10) == 1\n",
    "\n",
    "    results = run_random_measurements_eavesdropper(alice_settings, bob_settings, simulator, eavesdropper)\n",
    "\n",
    "    p_minus30_0  = compute_probability(results, alice_settings, bob_settings, (1, 0)) # (-30°,  0°)\n",
    "    p_30_0       = compute_probability(results, alice_settings, bob_settings, (0, 1)) # ( 30°,  0°)\n",
    "    p_minus30_30 = compute_probability(results, alice_settings, bob_settings, (1, 1)) # (-30°, 30°)\n",
    "\n",
    "    W = p_minus30_0 + p_30_0 - p_minus30_30\n",
    "\n",
    "    data['W'].append(W)\n",
    "    data['Perfect W'].append(-1/8)\n",
    "    data['Spy detection threshold'].append(0)\n",
    "\n",
    "    show_alert = W >= 0\n",
    "\n",
    "    live_plot(data, show_alert, eavesdropper)"
   ]
  }
 ],
 "metadata": {
  "kernelspec": {
   "display_name": "Python 3",
   "language": "python",
   "name": "python3"
  },
  "language_info": {
   "codemirror_mode": {
    "name": "ipython",
    "version": 3
   },
   "file_extension": ".py",
   "mimetype": "text/x-python",
   "name": "python",
   "nbconvert_exporter": "python",
   "pygments_lexer": "ipython3",
   "version": "3.10.15"
  }
 },
 "nbformat": 4,
 "nbformat_minor": 2
}
