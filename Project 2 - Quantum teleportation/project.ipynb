{
 "cells": [
  {
   "cell_type": "code",
   "execution_count": null,
   "metadata": {},
   "outputs": [],
   "source": [
    "from qiskit import QuantumRegister, ClassicalRegister, QuantumCircuit\n",
    "from qiskit.providers.basic_provider import BasicSimulator\n",
    "from qiskit.visualization import plot_histogram\n",
    "\n",
    "# Creating registers\n",
    "q = QuantumRegister(name='q', size=3)\n",
    "c = ClassicalRegister(name='c', size=3)\n",
    "\n",
    "# Step 0 - Instantiate qubit 0 in the state to be teleported:\n",
    "\n",
    "teleport.barrier() # just a visual aid\n",
    "# Step 1 - Make the shared entangled state in between qubit 1 and qubit 2\n",
    "\n",
    "teleport.barrier() # just a visual aid\n",
    "# Step 2 & 3: Alice applies a series of gates on qubit 0 and qubit 1\n",
    "\n",
    "# Step 4 - Alice measures qubit 0 and qubit 1\n",
    "\n",
    "# Step 5 - Bob applies a unitary transformation on his qubit\n",
    "# based on the outcome of Alice's measurements\n",
    "\n",
    "teleport.x(...).c_if(..., ...)\n",
    "teleport.z(...).c_if(..., ...)\n",
    "teleport.barrier() # just a visual aid\n",
    "\n",
    "# Visualizing your teleportation circuit\n",
    "\n",
    "teleport.draw()\n",
    "\n",
    "# How can Bob quickly check if his qubit is actually in state |ϕ⟩=\n",
    "# Implement your solution...\n",
    "# Step 6 - Bob checks if he got the right state\n",
    "\n",
    "#and then run a simulation:\n",
    "\n",
    "backend = BasicSimulator()\n",
    "result = backend.run(teleport, shots=8192).result()\n",
    "counts = result.get_counts()\n",
    "print(f\"The counts for circuit teleport are: {counts}\")\n",
    "plot_histogram(counts)"
   ]
  },
  {
   "cell_type": "code",
   "execution_count": 1,
   "metadata": {},
   "outputs": [
    {
     "name": "stdout",
     "output_type": "stream",
     "text": [
      "Account saved successfully.\n"
     ]
    }
   ],
   "source": [
    "import json\n",
    "from qiskit_ibm_runtime import QiskitRuntimeService\n",
    "\n",
    "with open(\"ibm_quantum_config.json\", \"r\") as config_file:\n",
    "    config = json.load(config_file)\n",
    "\n",
    "QiskitRuntimeService.save_account(\n",
    "    channel=config[\"channel\"],\n",
    "    token=config[\"token\"],\n",
    "    overwrite=True\n",
    ")\n",
    "\n",
    "print(\"Account saved successfully.\")"
   ]
  },
  {
   "cell_type": "code",
   "execution_count": 2,
   "metadata": {},
   "outputs": [
    {
     "name": "stdout",
     "output_type": "stream",
     "text": [
      "Account loaded successfully!\n",
      "Available QPUs: [<IBMBackend('ibm_brisbane')>, <IBMBackend('ibm_kyiv')>, <IBMBackend('ibm_sherbrooke')>]\n",
      "Least busy QPU: ibm_brisbane\n",
      "Least busy QPU number of qubits: 127\n"
     ]
    }
   ],
   "source": [
    "from qiskit_ibm_runtime import QiskitRuntimeService\n",
    "\n",
    "service = QiskitRuntimeService()\n",
    "print(\"Account loaded successfully!\")\n",
    "\n",
    "qpus = service.backends(operational=True, simulator=False)\n",
    "print(f\"Available QPUs: {qpus}\")\n",
    "\n",
    "least_busy_qpu = service.least_busy(operational=True, simulator=False)\n",
    "print(f\"Least busy QPU: {least_busy_qpu.name}\")\n",
    "\n",
    "least_busy_qpu_n_qubits = least_busy_qpu.configuration().n_qubits\n",
    "print(f\"Least busy QPU number of qubits: {least_busy_qpu_n_qubits}\")"
   ]
  }
 ],
 "metadata": {
  "kernelspec": {
   "display_name": "Python 3",
   "language": "python",
   "name": "python3"
  },
  "language_info": {
   "codemirror_mode": {
    "name": "ipython",
    "version": 3
   },
   "file_extension": ".py",
   "mimetype": "text/x-python",
   "name": "python",
   "nbconvert_exporter": "python",
   "pygments_lexer": "ipython3",
   "version": "3.10.15"
  }
 },
 "nbformat": 4,
 "nbformat_minor": 2
}
