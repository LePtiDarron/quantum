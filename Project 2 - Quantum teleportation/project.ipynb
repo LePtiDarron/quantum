{
 "cells": [
  {
   "cell_type": "markdown",
   "metadata": {},
   "source": [
    "Prerequisite installs for Project 2 - Quantum teleportation (Simulation)"
   ]
  },
  {
   "cell_type": "code",
   "execution_count": null,
   "metadata": {},
   "outputs": [],
   "source": [
    "%pip install qiskit\n",
    "%pip install qiskit[visualization]\n",
    "%pip install qiskit-aer"
   ]
  },
  {
   "cell_type": "markdown",
   "metadata": {},
   "source": [
    "Project 2 - Quantum teleportation (Simulation)"
   ]
  },
  {
   "cell_type": "code",
   "execution_count": null,
   "metadata": {},
   "outputs": [],
   "source": [
    "from math                 import sqrt\n",
    "from qiskit               import QuantumRegister,   \\\n",
    "                                 ClassicalRegister, \\\n",
    "                                 QuantumCircuit\n",
    "from qiskit.visualization import plot_histogram\n",
    "from qiskit_aer           import AerSimulator\n",
    "\n",
    "\n",
    "# Creating registers\n",
    "q = QuantumRegister(name='q', size=3)\n",
    "c = ClassicalRegister(name='c', size=3)\n",
    "teleport = QuantumCircuit(q, c)\n",
    "\n",
    "# Step 0 - Instantiate qubit 0 in the state to be teleported\n",
    "teleport.initialize([1 / sqrt(2), 1j / sqrt(2)], q[0]) # Initialize q[0] (belonging to Alice) to |ϕ⟩ = (|0⟩ + i|1⟩) / √2\n",
    "teleport.barrier()\n",
    "\n",
    "# Step 1 - Make the shared entangled state in between qubit 1 and qubit 2\n",
    "teleport.h(q[1])        # Apply Hadamard gate to q[1]\n",
    "teleport.cx(q[1], q[2]) # Apply CNOT gate with q[1] as control and q[2] as target\n",
    "teleport.barrier()\n",
    "\n",
    "# Step 2 & 3: Alice applies a series of gates on qubit 0 and qubit 1\n",
    "teleport.cx(q[0], q[1]) # Apply CNOT gate with q[0] as control and q[1] as target\n",
    "teleport.h(q[0])        # Apply Hadamard gate on q[0]\n",
    "teleport.barrier()\n",
    "\n",
    "# Step 4 - Alice measures qubit 0 and qubit 1\n",
    "teleport.measure(q[0], c[0]) # Measure q[0] into c[0]\n",
    "teleport.measure(q[1], c[1]) # Measure q[1] into c[1]\n",
    "teleport.barrier()\n",
    "\n",
    "# Step 5 - Bob applies a unitary transformation on his qubit based on the outcome of Alice's measurements\n",
    "teleport.x(q[2]).c_if(c[1], 1) # Apply X gate on q[2] if c[1] == 1\n",
    "teleport.z(q[2]).c_if(c[0], 1) # Apply Z gate on q[2] if c[0] == 1\n",
    "teleport.barrier()\n",
    "\n",
    "# Visualizing your teleportation circuit\n",
    "teleport.draw()\n",
    "\n",
    "# How can Bob quickly check if his qubit is actually in state |ϕ⟩=\n",
    "# Implement your solution...\n",
    "# Step 6 - Bob checks if he got the right state\n",
    "teleport.measure(q[2], c[2]) # Measure q[2] into c[2]\n",
    "\n",
    "# And then run a simulation:\n",
    "backend = AerSimulator()\n",
    "shots = 8192\n",
    "result = backend.run(teleport, shots=shots).result()\n",
    "counts = result.get_counts()\n",
    "print(f\"The counts for circuit teleport are: {counts}\")\n",
    "plot_histogram(counts)"
   ]
  },
  {
   "cell_type": "markdown",
   "metadata": {},
   "source": [
    "Prerequisite installs for Project 2 - Quantum teleportation (IBM Quantum Platform)"
   ]
  },
  {
   "cell_type": "code",
   "execution_count": null,
   "metadata": {},
   "outputs": [],
   "source": [
    "%pip install qiskit\n",
    "%pip install qiskit[visualization]\n",
    "%pip install qiskit-ibm-runtime"
   ]
  },
  {
   "cell_type": "markdown",
   "metadata": {},
   "source": [
    "Save account to Qiskit, according to configuration file 'ibm_quantum_config.json'.\n",
    "To get your IBM Quantum Platform token, go to https://quantum.ibm.com/account and copy your API token.\n",
    "The 'ibm_quantum_config.json' file should contain something like this:\n",
    "\n",
    "{\n",
    "    \"channel\": \"ibm_quantum\",\n",
    "    \"token\": \"yourtoken\"\n",
    "}"
   ]
  },
  {
   "cell_type": "code",
   "execution_count": null,
   "metadata": {},
   "outputs": [],
   "source": [
    "import os\n",
    "import sys\n",
    "import json\n",
    "from   qiskit_ibm_runtime import QiskitRuntimeService\n",
    "\n",
    "\n",
    "if not os.path.exists(\"ibm_quantum_config.json\"):\n",
    "    print(\"Please create a file named 'ibm_quantum_config.json' with your IBM Quantum API token.\")\n",
    "    sys.exit(1)\n",
    "\n",
    "with open(\"ibm_quantum_config.json\", \"r\") as config_file:\n",
    "    config = json.load(config_file)\n",
    "    print(\"Configuration loaded successfully.\")\n",
    "\n",
    "QiskitRuntimeService.save_account(\n",
    "    channel=config[\"channel\"],\n",
    "    token=config[\"token\"],\n",
    "    overwrite=True\n",
    ")\n",
    "\n",
    "print(\"Account saved successfully.\")"
   ]
  },
  {
   "cell_type": "markdown",
   "metadata": {},
   "source": [
    "Load account from Qiskit."
   ]
  },
  {
   "cell_type": "code",
   "execution_count": null,
   "metadata": {},
   "outputs": [],
   "source": [
    "from qiskit_ibm_runtime import QiskitRuntimeService\n",
    "\n",
    "\n",
    "service = QiskitRuntimeService()\n",
    "print(\"Account loaded successfully!\")\n",
    "\n",
    "backends = service.backends(\n",
    "    filters=lambda b: not b.configuration().simulator and b.status().operational\n",
    ")\n",
    "print(f\"Available Backends: {backends}\")\n",
    "\n",
    "least_busy_backend = service.least_busy(\n",
    "    filters=lambda b: not b.configuration().simulator and b.status().operational\n",
    ")\n",
    "print(f\"Least busy backend: {least_busy_backend.name}\")\n",
    "\n",
    "least_busy_backend_nb_qubits = least_busy_backend.configuration().n_qubits\n",
    "print(f\"Least busy backend number of qubits: {least_busy_backend_nb_qubits}\")"
   ]
  },
  {
   "cell_type": "markdown",
   "metadata": {},
   "source": [
    "Project 2 - Quantum teleportation (IBM Quantum Platform)"
   ]
  },
  {
   "cell_type": "code",
   "execution_count": null,
   "metadata": {},
   "outputs": [],
   "source": [
    "from math                 import sqrt\n",
    "from qiskit               import QuantumRegister,   \\\n",
    "                                 ClassicalRegister, \\\n",
    "                                 QuantumCircuit,    \\\n",
    "                                 transpile\n",
    "from qiskit.visualization import plot_histogram\n",
    "from qiskit_ibm_runtime   import Session, \\\n",
    "                                 Sampler\n",
    "\n",
    "# Creating registers\n",
    "q = QuantumRegister(name='q', size=3)\n",
    "c = ClassicalRegister(name='c', size=3)\n",
    "teleport = QuantumCircuit(q, c)\n",
    "\n",
    "# Step 0 - Instantiate qubit 0 in the state to be teleported\n",
    "teleport.initialize([1 / sqrt(2), 1j / sqrt(2)], q[0])  # Initialize q[0] to |ϕ⟩ = (|0⟩ + i|1⟩) / √2\n",
    "teleport.barrier()\n",
    "\n",
    "# Step 1 - Make the shared entangled state in between qubit 1 and qubit 2\n",
    "teleport.h(q[1])        # Apply Hadamard gate to q[1]\n",
    "teleport.cx(q[1], q[2]) # Apply CNOT gate with q[1] as control and q[2] as target\n",
    "teleport.barrier()\n",
    "\n",
    "# Step 2 & 3: Alice applies a series of gates on qubit 0 and qubit 1\n",
    "teleport.cx(q[0], q[1]) # Apply CNOT gate with q[0] as control and q[1] as target\n",
    "teleport.h(q[0])        # Apply Hadamard gate on q[0]\n",
    "teleport.barrier()\n",
    "\n",
    "# Step 4 - Alice measures qubit 0 and qubit 1\n",
    "teleport.measure(q[0], c[0])  # Measure q[0] into c[0]\n",
    "teleport.measure(q[1], c[1])  # Measure q[1] into c[1]\n",
    "teleport.barrier()\n",
    "\n",
    "# Step 5 - Bob applies a unitary transformation on his qubit based on the outcome of Alice's measurements\n",
    "teleport.x(q[2]).c_if(c[1], 1)  # Apply X gate on q[2] if c[1] == 1\n",
    "teleport.z(q[2]).c_if(c[0], 1)  # Apply Z gate on q[2] if c[0] == 1\n",
    "teleport.barrier()\n",
    "\n",
    "# Step 6 - Bob checks if he got the right state\n",
    "teleport.measure(q[2], c[2])  # Measure q[2] into c[2]\n",
    "\n",
    "# Transpile the circuit for the previously selected least busy backend\n",
    "teleport_transpiled = transpile(teleport, least_busy_backend)\n",
    "\n",
    "# Use Qiskit Runtime with Sampler for the quantum circuit\n",
    "with Session(backend=least_busy_backend) as session:\n",
    "    sampler = Sampler(mode=session)\n",
    "\n",
    "    shots = 8192\n",
    "    job = sampler.run([teleport_transpiled], shots=shots)\n",
    "    job_result = job.result()\n",
    "\n",
    "    # Obtain the counts (measurement results) from the job result\n",
    "    counts = job_result[0].data.c.get_counts()\n",
    "    print(f\"The counts for circuit teleport are: {counts}\")\n",
    "    plot_histogram(counts)"
   ]
  }
 ],
 "metadata": {
  "kernelspec": {
   "display_name": "Python 3",
   "language": "python",
   "name": "python3"
  },
  "language_info": {
   "codemirror_mode": {
    "name": "ipython",
    "version": 3
   },
   "file_extension": ".py",
   "mimetype": "text/x-python",
   "name": "python",
   "nbconvert_exporter": "python",
   "pygments_lexer": "ipython3",
   "version": "3.10.15"
  }
 },
 "nbformat": 4,
 "nbformat_minor": 2
}
