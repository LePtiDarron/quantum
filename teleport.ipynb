{
 "cells": [
  {
   "cell_type": "code",
   "execution_count": null,
   "metadata": {},
   "outputs": [],
   "source": [
    "from qiskit import QuantumRegister, ClassicalRegister, QuantumCircuit\n",
    "from qiskit.providers.basic_provider import BasicSimulator\n",
    "from qiskit.visualization import plot_histogram\n",
    "\n",
    "# Creating registers\n",
    "q = QuantumRegister(name='q', size=3)\n",
    "c = ClassicalRegister(name='c', size=3)\n",
    "\n",
    "# Creates the quantum circuit\n",
    "teleport = QuantumCircuit(q, c)\n",
    "\n",
    "# Step 0 - Instantiate qubit 0 in the state to be teleported:\n",
    "teleport.h(q[0])\n",
    "teleport.s(q[0])\n",
    "\n",
    "teleport.barrier()  # just a visual aid\n",
    "\n",
    "# Step 1 - Make the shared entangled state in between qubit 1 and qubit 2\n",
    "teleport.h(q[1])\n",
    "teleport.cx(q[1], q[2])\n",
    "\n",
    "teleport.barrier()  # just a visual aid\n",
    "\n",
    "# Step 2 & 3: Alice applies a series of gates on qubit 0 and qubit 1\n",
    "teleport.cx(q[0], q[1])\n",
    "teleport.h(q[0])\n",
    "\n",
    "# Step 4 - Alice measures qubit 0 and qubit 1\n",
    "teleport.measure(q[0], c[0])\n",
    "teleport.measure(q[1], c[1])\n",
    "\n",
    "# Step 5 - Bob applies a unitary transformation on his qubit\n",
    "# based on the outcome of Alice's measurements\n",
    "teleport.x(q[2]).c_if(c[1], 1)\n",
    "teleport.z(q[2]).c_if(c[0], 1)\n",
    "\n",
    "# Visualizing your teleportation circuit\n",
    "print(teleport)\n",
    "\n",
    "# Step 6 - Bob checks if he got the right state\n",
    "teleport.measure(q[2], c[2])\n",
    "\n",
    "# Step 6 - Bob checks if he got the right state\n",
    "backend = BasicSimulator()\n",
    "result = backend.run(teleport, shots=8192).result()\n",
    "counts = result.get_counts()\n",
    "print(f\"The counts for circuit teleport are: {counts}\")\n",
    "plot_histogram(counts)"
   ]
  }
 ],
 "metadata": {
  "language_info": {
   "name": "python"
  }
 },
 "nbformat": 4,
 "nbformat_minor": 2
}
