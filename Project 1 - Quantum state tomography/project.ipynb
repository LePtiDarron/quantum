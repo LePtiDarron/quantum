{
 "cells": [
  {
   "cell_type": "markdown",
   "metadata": {},
   "source": [
    "Prerequisite installs for Project 1 - Quantum state tomography (Simulation)"
   ]
  },
  {
   "cell_type": "code",
   "execution_count": null,
   "metadata": {},
   "outputs": [],
   "source": [
    "%pip install qiskit\n",
    "%pip install qiskit[visualization]"
   ]
  },
  {
   "cell_type": "markdown",
   "metadata": {},
   "source": [
    "Project 1 - Quantum state tomography (Simulation)"
   ]
  },
  {
   "cell_type": "code",
   "execution_count": null,
   "metadata": {},
   "outputs": [],
   "source": [
    "from math                 import sqrt\n",
    "from qiskit               import QuantumCircuit\n",
    "from qiskit.primitives    import StatevectorSampler\n",
    "from qiskit.visualization import plot_bloch_vector\n",
    "\n",
    "\n",
    "def quantum_state_tomography(alpha, beta):\n",
    "    qc: QuantumCircuit = QuantumCircuit(1, 1)\n",
    "    target_state_vector = [alpha, beta]\n",
    "    qc.initialize(target_state_vector, 0)\n",
    "\n",
    "    measure_x = QuantumCircuit(1, 1)\n",
    "    measure_x.h(0)\n",
    "    measure_x.measure(0, 0)\n",
    "\n",
    "    measure_y = QuantumCircuit(1, 1)\n",
    "    measure_y.sdg(0)\n",
    "    measure_y.h(0)\n",
    "    measure_y.measure(0, 0)\n",
    "\n",
    "    measure_z = QuantumCircuit(1, 1)\n",
    "    measure_z.measure(0, 0)\n",
    "\n",
    "    qc_x = qc.compose(measure_x)\n",
    "    qc_y = qc.compose(measure_y)\n",
    "    qc_z = qc.compose(measure_z)\n",
    "\n",
    "    state_vector_sampler = StatevectorSampler()\n",
    "    shots = 8192\n",
    "    results_x = state_vector_sampler.run([qc_x], shots=shots).result()\n",
    "    results_y = state_vector_sampler.run([qc_y], shots=shots).result()\n",
    "    results_z = state_vector_sampler.run([qc_z], shots=shots).result()\n",
    "\n",
    "    counts_x = results_x[0].data.c.get_counts()\n",
    "    counts_y = results_y[0].data.c.get_counts()\n",
    "    counts_z = results_z[0].data.c.get_counts()\n",
    "\n",
    "    x = abs(counts_x.get('0', 0) - counts_x.get('1', 0)) / shots\n",
    "    y = abs(counts_y.get('0', 0) - counts_y.get('1', 0)) / shots\n",
    "    z = abs(counts_z.get('0', 0) - counts_z.get('1', 0)) / shots\n",
    "\n",
    "    return [x, y, z]\n",
    "\n",
    "alpha = sqrt(2 / 3)\n",
    "beta = sqrt(1 / 3)\n",
    "bloch_vector = quantum_state_tomography(alpha, beta)\n",
    "print(\"Theoretical Bloch vector result:\", [(2 * sqrt(2)) / 3, 0, 1 / 3])\n",
    "print(\"Resulting Bloch vector:\", bloch_vector)\n",
    "plot_bloch_vector(bloch_vector)\n"
   ]
  },
  {
   "cell_type": "markdown",
   "metadata": {},
   "source": [
    "Prerequisite installs for Project 1 - Quantum state tomography (IBM Quantum Platform)"
   ]
  },
  {
   "cell_type": "code",
   "execution_count": null,
   "metadata": {},
   "outputs": [],
   "source": [
    "%pip install qiskit\n",
    "%pip install qiskit[visualization]\n",
    "%pip install qiskit-ibm-runtime"
   ]
  },
  {
   "cell_type": "markdown",
   "metadata": {},
   "source": [
    "Save account to Qiskit, according to configuration file 'ibm_quantum_config.json'.\n",
    "\n",
    "To get your IBM Quantum Platform token, go to https://quantum.ibm.com/account and copy your API token.\n",
    "The 'ibm_quantum_config.json' file should contain something like this:\n",
    "\n",
    "{\n",
    "    \"channel\": \"ibm_quantum\",\n",
    "    \"token\": \"yourtoken\"\n",
    "}"
   ]
  },
  {
   "cell_type": "code",
   "execution_count": null,
   "metadata": {},
   "outputs": [],
   "source": [
    "import os\n",
    "import sys\n",
    "import json\n",
    "from   qiskit_ibm_runtime import QiskitRuntimeService\n",
    "\n",
    "\n",
    "if not os.path.exists(\"ibm_quantum_config.json\"):\n",
    "    print(\"Please create a file named 'ibm_quantum_config.json' with your IBM Quantum API token.\")\n",
    "    sys.exit(1)\n",
    "\n",
    "with open(\"ibm_quantum_config.json\", \"r\") as config_file:\n",
    "    config = json.load(config_file)\n",
    "    print(\"Configuration loaded successfully.\")\n",
    "\n",
    "QiskitRuntimeService.save_account(\n",
    "    channel=config[\"channel\"],\n",
    "    token=config[\"token\"],\n",
    "    overwrite=True\n",
    ")\n",
    "\n",
    "print(\"Account saved successfully.\")"
   ]
  },
  {
   "cell_type": "markdown",
   "metadata": {},
   "source": [
    "Load account from Qiskit."
   ]
  },
  {
   "cell_type": "code",
   "execution_count": null,
   "metadata": {},
   "outputs": [],
   "source": [
    "from qiskit_ibm_runtime import QiskitRuntimeService\n",
    "\n",
    "\n",
    "service = QiskitRuntimeService()\n",
    "print(\"Account loaded successfully!\")\n",
    "\n",
    "backends = service.backends(\n",
    "    filters=lambda b: not b.configuration().simulator and b.status().operational\n",
    ")\n",
    "print(f\"Available Backends: {backends}\")\n",
    "\n",
    "least_busy_backend = service.least_busy(\n",
    "    filters=lambda b: not b.configuration().simulator and b.status().operational\n",
    ")\n",
    "print(f\"Least busy backend: {least_busy_backend.name}\")\n",
    "\n",
    "least_busy_backend_nb_qubits = least_busy_backend.configuration().n_qubits\n",
    "print(f\"Least busy backend number of qubits: {least_busy_backend_nb_qubits}\")"
   ]
  },
  {
   "cell_type": "markdown",
   "metadata": {},
   "source": [
    "Project 1 - Quantum state tomography (IBM Quantum Platform)"
   ]
  },
  {
   "cell_type": "code",
   "execution_count": null,
   "metadata": {},
   "outputs": [],
   "source": [
    "from math                 import sqrt\n",
    "from qiskit               import QuantumCircuit, transpile\n",
    "from qiskit.visualization import plot_bloch_vector\n",
    "from qiskit_ibm_runtime   import QiskitRuntimeService, \\\n",
    "                                 Session,              \\\n",
    "                                 Sampler\n",
    "\n",
    "\n",
    "def quantum_state_tomography(alpha, beta):\n",
    "    x, y, z = 0.0, 0.0, 0.0\n",
    "\n",
    "    qc: QuantumCircuit = QuantumCircuit(1, 1)\n",
    "    target_state_vector = [alpha, beta]\n",
    "    qc.initialize(target_state_vector, 0)\n",
    "\n",
    "    measure_x = QuantumCircuit(1, 1)\n",
    "    measure_x.h(0)\n",
    "    measure_x.measure(0, 0)\n",
    "\n",
    "    measure_y = QuantumCircuit(1, 1)\n",
    "    measure_y.sdg(0)\n",
    "    measure_y.h(0)\n",
    "    measure_y.measure(0, 0)\n",
    "\n",
    "    measure_z = QuantumCircuit(1, 1)\n",
    "    measure_z.measure(0, 0)\n",
    "\n",
    "    qc_x = qc.compose(measure_x)\n",
    "    qc_y = qc.compose(measure_y)\n",
    "    qc_z = qc.compose(measure_z)\n",
    "\n",
    "    service = QiskitRuntimeService()\n",
    "    print(\"Account loaded successfully!\")\n",
    "\n",
    "    least_busy_backend = service.least_busy(\n",
    "        filters=lambda b: not b.configuration().simulator and b.status().operational\n",
    "    )\n",
    "    print(f\"Running on backend: {least_busy_backend.name}\")\n",
    "\n",
    "    qc_x_transpiled = transpile(qc_x, least_busy_backend)\n",
    "    qc_y_transpiled = transpile(qc_y, least_busy_backend)\n",
    "    qc_z_transpiled = transpile(qc_z, least_busy_backend)\n",
    "\n",
    "    with Session(backend=least_busy_backend) as session:\n",
    "        sampler = Sampler(mode=session)\n",
    "\n",
    "        shots = 8192\n",
    "        job_qc_x = sampler.run([qc_x_transpiled], shots=shots)\n",
    "        job_qc_y = sampler.run([qc_y_transpiled], shots=shots)\n",
    "        job_qc_z = sampler.run([qc_z_transpiled], shots=shots)\n",
    "\n",
    "        job_qc_x_result = job_qc_x.result()\n",
    "        job_qc_y_result = job_qc_y.result()\n",
    "        job_qc_z_result = job_qc_z.result()\n",
    "        counts_x = job_qc_x_result[0].data.c.get_counts()\n",
    "        counts_y = job_qc_y_result[0].data.c.get_counts()\n",
    "        counts_z = job_qc_z_result[0].data.c.get_counts()\n",
    "\n",
    "        x = abs(counts_x.get('0', 0) - counts_x.get('1', 0)) / shots\n",
    "        y = abs(counts_y.get('0', 0) - counts_y.get('1', 0)) / shots\n",
    "        z = abs(counts_z.get('0', 0) - counts_z.get('1', 0)) / shots\n",
    "\n",
    "    return [x, y, z]\n",
    "\n",
    "alpha = sqrt(2 / 3)\n",
    "beta = sqrt(1 / 3)\n",
    "\n",
    "bloch_vector = quantum_state_tomography(alpha, beta)\n",
    "print(\"Theoretical Bloch vector result:\", [(2 * sqrt(2)) / 3, 0, 1 / 3])\n",
    "print(\"Resulting Bloch vector:\", bloch_vector)\n",
    "\n",
    "plot_bloch_vector(bloch_vector)"
   ]
  }
 ],
 "metadata": {
  "kernelspec": {
   "display_name": "Python 3",
   "language": "python",
   "name": "python3"
  },
  "language_info": {
   "codemirror_mode": {
    "name": "ipython",
    "version": 3
   },
   "file_extension": ".py",
   "mimetype": "text/x-python",
   "name": "python",
   "nbconvert_exporter": "python",
   "pygments_lexer": "ipython3",
   "version": "3.10.15"
  }
 },
 "nbformat": 4,
 "nbformat_minor": 2
}
